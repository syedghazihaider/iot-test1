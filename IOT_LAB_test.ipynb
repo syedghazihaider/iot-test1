{
  "nbformat": 4,
  "nbformat_minor": 0,
  "metadata": {
    "colab": {
      "name": "IOT LAB test.ipynb",
      "provenance": [],
      "collapsed_sections": []
    },
    "kernelspec": {
      "name": "python3",
      "display_name": "Python 3"
    },
    "language_info": {
      "name": "python"
    }
  },
  "cells": [
    {
      "cell_type": "code",
      "execution_count": 2,
      "metadata": {
        "colab": {
          "base_uri": "https://localhost:8080/",
          "height": 35
        },
        "id": "0iP7-iBkllJM",
        "outputId": "9d1fc950-f5d2-4c48-ab34-caa7331abd1c"
      },
      "outputs": [
        {
          "output_type": "execute_result",
          "data": {
            "text/plain": [
              "'python test by sir mooazam\\nname=syed ghazi haider\\ncourse= IOT sec B'"
            ],
            "application/vnd.google.colaboratory.intrinsic+json": {
              "type": "string"
            }
          },
          "metadata": {},
          "execution_count": 2
        }
      ],
      "source": [
        "'''python test by sir mooazam\n",
        "name=syed ghazi haider\n",
        "course= IOT sec B'''\n"
      ]
    },
    {
      "cell_type": "code",
      "source": [
        "#largest number\n",
        "heights = [100, 2, 300, 10, 11, 1000]\n",
        "largest_number = heights[0]\n",
        "for number in heights:\n",
        "    if number > largest_number:\n",
        "        largest_number = number\n",
        "print(largest_number)\n"
      ],
      "metadata": {
        "colab": {
          "base_uri": "https://localhost:8080/"
        },
        "id": "CLNBN6QSqyAc",
        "outputId": "a7007b3e-cd3b-4c64-caff-c57b15d5e240"
      },
      "execution_count": 38,
      "outputs": [
        {
          "output_type": "stream",
          "name": "stdout",
          "text": [
            "1000\n"
          ]
        }
      ]
    },
    {
      "cell_type": "code",
      "source": [
        " #question 1\n",
        " '''Python program to print all odd numbers in a list'''\n",
        "O_list = [1,2,3,4,5,6,7,8,9]\n",
        "odd = [num for num in O_list if num % 2 != 0]\n",
        "print(\"odd numbers is : \", odd)\n"
      ],
      "metadata": {
        "colab": {
          "base_uri": "https://localhost:8080/"
        },
        "id": "NiXAzby3vXra",
        "outputId": "097c37cf-7a9f-4843-96d9-20d8562f3860"
      },
      "execution_count": 39,
      "outputs": [
        {
          "output_type": "stream",
          "name": "stdout",
          "text": [
            "odd numbers is :  [1, 3, 5, 7, 9]\n"
          ]
        }
      ]
    },
    {
      "cell_type": "code",
      "source": [
        "#question 2\n",
        " \"\"\"Python program to find the sum of list element\"\"\"\n",
        "numlist = ['1','0','47','44','11','54','28','69','45']\n",
        "plus=0\n",
        "for i in numlist:\n",
        "    plus+=int(i)\n",
        "print('Sum of List: ',plus)\n"
      ],
      "metadata": {
        "colab": {
          "base_uri": "https://localhost:8080/"
        },
        "id": "J_HI7stcvrUK",
        "outputId": "5eae4fca-5196-45e0-a7d2-00acb677b794"
      },
      "execution_count": 8,
      "outputs": [
        {
          "output_type": "stream",
          "name": "stdout",
          "text": [
            "Sum of List:  299\n"
          ]
        }
      ]
    },
    {
      "cell_type": "code",
      "source": [
        "#question 3\n",
        " \"\"\"Python program to reverse a list in two ways\"\"\"\n",
        "Cars = ['Toyota','Kia','Hundai','Suzuki']\n",
        "reverse = Cars[::-1]\n",
        "print(reverse)"
      ],
      "metadata": {
        "colab": {
          "base_uri": "https://localhost:8080/"
        },
        "id": "zBaCU99dvxpM",
        "outputId": "d54e4cc7-61e7-48a4-ed2a-18f67eac08aa"
      },
      "execution_count": 10,
      "outputs": [
        {
          "output_type": "stream",
          "name": "stdout",
          "text": [
            "['Suzuki', 'Hundai', 'Kia', 'Toyota']\n"
          ]
        }
      ]
    },
    {
      "cell_type": "code",
      "source": [
        " #question 4\n",
        " \"\"\"Python program to write 2nd largst num\n",
        " \"\"\"\n",
        "a=[]\n",
        "n=int(input(\"Enter number of elements:\"))\n",
        "for i in range(1,n+1):\n",
        "    b=int(input(\"Enter element:\"))\n",
        "    a.append(b)\n",
        "a.sort()\n",
        "print(\"Second largest element is:\",a[n-2])"
      ],
      "metadata": {
        "colab": {
          "base_uri": "https://localhost:8080/"
        },
        "id": "u9ssY0LhwFwH",
        "outputId": "25dc5909-caa5-4910-b4dd-7e1ee9144130"
      },
      "execution_count": 13,
      "outputs": [
        {
          "output_type": "stream",
          "name": "stdout",
          "text": [
            "Enter number of elements:10\n",
            "Enter element:20\n",
            "Enter element:30\n",
            "Enter element:40\n",
            "Enter element:50\n",
            "Enter element:60\n",
            "Enter element:70\n",
            "Enter element:80\n",
            "Enter element:90\n",
            "Enter element:10\n",
            "Enter element:110\n",
            "Second largest element is: 90\n"
          ]
        }
      ]
    },
    {
      "cell_type": "code",
      "source": [
        "#question 6\n",
        "list1=['mooazam' , 'ghazi' ,' mohsin' , 'abdan']\n",
        "list1.sort()\n",
        "print(list1)"
      ],
      "metadata": {
        "colab": {
          "base_uri": "https://localhost:8080/"
        },
        "id": "MEBjH2qUzmeK",
        "outputId": "dfa42aff-df45-4aed-b01f-6ecdf362dced"
      },
      "execution_count": 19,
      "outputs": [
        {
          "output_type": "stream",
          "name": "stdout",
          "text": [
            "[' mohsin', 'abdan', 'ghazi', 'mooazam']\n"
          ]
        }
      ]
    },
    {
      "cell_type": "code",
      "source": [
        "#question 7\n",
        "string=\"ghaziorghazi\"\n",
        "p=\"\"\n",
        "for i in string:\n",
        "\tif i not in p:\n",
        "\t\tp=p+i\n",
        "print(p)"
      ],
      "metadata": {
        "colab": {
          "base_uri": "https://localhost:8080/"
        },
        "id": "4ojHel010jLm",
        "outputId": "54b022a1-9589-430e-9093-5c4f33d4a7f2"
      },
      "execution_count": 27,
      "outputs": [
        {
          "output_type": "stream",
          "name": "stdout",
          "text": [
            "ghazior\n"
          ]
        }
      ]
    },
    {
      "cell_type": "code",
      "source": [
        "#question 8\n",
        "charac = input(\"Enter a character: \")\n",
        "\n",
        "if(charac=='A' or charac =='a' or charac =='E' or charac =='e' or charac =='I'\n",
        " or charac =='i' or charac =='O' or charac =='o' or charac =='U' or charac =='u'):\n",
        "    print(charac, \"is a Vowel\")\n",
        "else:\n",
        "    print(charac, \"is a Consonant\")"
      ],
      "metadata": {
        "colab": {
          "base_uri": "https://localhost:8080/"
        },
        "id": "oY1WBKnG1b5O",
        "outputId": "2465f0ba-07c8-4f70-db8e-2acc59c214b7"
      },
      "execution_count": 33,
      "outputs": [
        {
          "output_type": "stream",
          "name": "stdout",
          "text": [
            "Enter a character: a\n",
            "a is a Vowel\n"
          ]
        }
      ]
    },
    {
      "cell_type": "code",
      "source": [
        "#question 9\n",
        "# Python program to find the factorial of a number provided by the user.\n",
        "\n",
        "\n",
        "num = int(input(\"Enter a number: \"))\n",
        "\n",
        "factorial = 1\n",
        "\n",
        "if num < 0:\n",
        "   print(\"Sorry, factorial does not exist for negative numbers\")\n",
        "elif num == 0:\n",
        "   print(\"The factorial of 0 is 1\")\n",
        "else:\n",
        "   for i in range(1,num + 1):\n",
        "       factorial = factorial*i\n",
        "   print(\"The factorial of\",num,\"is\",factorial)"
      ],
      "metadata": {
        "colab": {
          "base_uri": "https://localhost:8080/"
        },
        "id": "E5_a7cFB40Ln",
        "outputId": "8a38de95-b243-4d27-c8e3-dfa0f10e2034"
      },
      "execution_count": 36,
      "outputs": [
        {
          "output_type": "stream",
          "name": "stdout",
          "text": [
            "Enter a number: 5\n",
            "The factorial of 5 is 120\n"
          ]
        }
      ]
    },
    {
      "cell_type": "code",
      "source": [
        "#question 10\n",
        "\"\"\"program which merge two list\"\"\"\n",
        "list1 = [\"elephant\", \"bheme\" , \"Mr bean\"]\n",
        "list2 = [1, 2, 3]\n",
        "\n",
        "list3 = list1 + list2\n",
        "print(list3)\n"
      ],
      "metadata": {
        "colab": {
          "base_uri": "https://localhost:8080/"
        },
        "id": "iLo5eIfq5qIR",
        "outputId": "8c8def0b-2d75-4fb8-b3d5-bcf3b10dfa5b"
      },
      "execution_count": 37,
      "outputs": [
        {
          "output_type": "stream",
          "name": "stdout",
          "text": [
            "['elephant', 'bheme', 'Mr bean', 1, 2, 3]\n"
          ]
        }
      ]
    }
  ]
}